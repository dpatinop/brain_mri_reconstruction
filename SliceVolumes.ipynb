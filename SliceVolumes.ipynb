{
 "cells": [
  {
   "cell_type": "code",
   "execution_count": 1,
   "id": "c7cd3325",
   "metadata": {},
   "outputs": [
    {
     "name": "stdout",
     "output_type": "stream",
     "text": [
      "WARNING:tensorflow:From C:\\Python\\Python39\\lib\\site-packages\\tensorflow\\python\\compat\\v2_compat.py:107: disable_resource_variables (from tensorflow.python.ops.variable_scope) is deprecated and will be removed in a future version.\n",
      "Instructions for updating:\n",
      "non-resource variables are not supported in the long term\n"
     ]
    }
   ],
   "source": [
    "from deepbrain import Extractor\n",
    "import nibabel\n",
    "import numpy as np\n",
    "import pydicom\n",
    "import os"
   ]
  },
  {
   "cell_type": "code",
   "execution_count": 2,
   "id": "84669262",
   "metadata": {},
   "outputs": [],
   "source": [
    "import matplotlib.pyplot as plt\n",
    "\n",
    "def convertNsave(arr, file_path, index=0):\n",
    "    \"\"\"\n",
    "    `arr`: parameter will take a numpy array that represents only one slice.\n",
    "    `file_path`: parameter will take the path to save the slices\n",
    "    `index`: parameter will represent the index of the slice, so this parameter will be used to put \n",
    "    the name of each slice while using a for loop to convert all the slices\n",
    "    \"\"\"\n",
    "    \n",
    "    dicom_file = pydicom.dcmread('dcmimage.dcm')\n",
    "    dicom_file.Rows = arr.shape[0]\n",
    "    dicom_file.Columns = arr.shape[1]\n",
    "    dicom_file.PhotometricInterpretation = \"MONOCHROME2\"\n",
    "    dicom_file.SamplesPerPixel = 1\n",
    "    dicom_file.BitsStored = 32\n",
    "    dicom_file.BitsAllocated = 32\n",
    "    dicom_file.HighBit = 31\n",
    "    dicom_file.PixelRepresentation = 0\n",
    "    dicom_file.PixelData = arr.astype('uint32').tobytes()\n",
    "    dicom_file.save_as(file_path + f'_{index}.dcm')\n",
    "\n",
    "def nifti2dicom_1file(nifti_dir, out_path, out_name):\n",
    "    \"\"\"\n",
    "    This function is to convert only one nifti file into dicom series\n",
    "    `nifti_dir`: the path to the one nifti file\n",
    "    `out_path`: the path to output\n",
    "    \"\"\"\n",
    "\n",
    "    ext = Extractor()\n",
    "    nifti_file = nibabel.load(nifti_dir)\n",
    "    nifti_array = nifti_file.get_fdata()\n",
    "    nifti_array = nifti_array * (2**32 - 1) / np.max(nifti_array)\n",
    "    mask = ext.run(nifti_array) > 0.5\n",
    "\n",
    "    for slice_ in range(nifti_array.shape[0]):\n",
    "        data_slice = nifti_array[slice_, :, :]\n",
    "        mask_slice = mask[slice_, :, :]\n",
    "\n",
    "        if 0.1 > (mask_slice.sum() / np.size(mask_slice)):\n",
    "            continue\n",
    "\n",
    "        convertNsave(data_slice, os.path.join(out_path, 'coronal', out_name), slice_)\n",
    "\n",
    "    for slice_ in range(nifti_array.shape[1]):\n",
    "        data_slice = nifti_array[:, slice_, :]\n",
    "        mask_slice = mask[:, slice_, :]\n",
    "\n",
    "        if 0.1 > (mask_slice.sum() / np.size(mask_slice)):\n",
    "            continue\n",
    "\n",
    "        convertNsave(data_slice, os.path.join(out_path, 'axial', out_name), slice_)\n",
    "\n",
    "    for slice_ in range(nifti_array.shape[2]):\n",
    "        data_slice = nifti_array[:, :, slice_]\n",
    "        mask_slice = mask[:, :, slice_]\n",
    "\n",
    "        if 0.1 > (mask_slice.sum() / np.size(mask_slice)):\n",
    "            continue\n",
    "\n",
    "        convertNsave(data_slice, os.path.join(out_path, 'sagittal', out_name), slice_)\n",
    "\n",
    "\n",
    "def nifti2dicom_mfiles(nifti_dir, out_dir=''):\n",
    "    \"\"\"\n",
    "    This function is to convert multiple nifti files into dicom files\n",
    "    `nifti_dir`: You enter the global path to all of the nifti files here.\n",
    "    `out_dir`: Put the path to where you want to save all the dicoms here.\n",
    "    PS: Each nifti file's folders will be created automatically, so you do not need to create an empty folder for each patient.\n",
    "    \"\"\"\n",
    "\n",
    "    files = os.listdir(nifti_dir)\n",
    "    os.makedirs(os.path.join(out_dir, 'axial'))\n",
    "    os.makedirs(os.path.join(out_dir, 'coronal'))\n",
    "    os.makedirs(os.path.join(out_dir, 'sagittal'))\n",
    "    for file in files:\n",
    "        in_path = os.path.join(nifti_dir, file)\n",
    "        nifti2dicom_1file(in_path, out_dir, file.split('.')[0])\n"
   ]
  },
  {
   "cell_type": "code",
   "execution_count": 3,
   "id": "e1edcbbd",
   "metadata": {},
   "outputs": [
    {
     "name": "stdout",
     "output_type": "stream",
     "text": [
      "WARNING:tensorflow:From C:\\Python\\Python39\\lib\\site-packages\\deepbrain\\extractor.py:22: FastGFile.__init__ (from tensorflow.python.platform.gfile) is deprecated and will be removed in a future version.\n",
      "Instructions for updating:\n",
      "Use tf.gfile.GFile.\n"
     ]
    }
   ],
   "source": [
    "nifti2dicom_mfiles('dataset/IXI-T1', 'slices_dicom')"
   ]
  }
 ],
 "metadata": {
  "kernelspec": {
   "display_name": "Python 3 (ipykernel)",
   "language": "python",
   "name": "python3"
  },
  "language_info": {
   "codemirror_mode": {
    "name": "ipython",
    "version": 3
   },
   "file_extension": ".py",
   "mimetype": "text/x-python",
   "name": "python",
   "nbconvert_exporter": "python",
   "pygments_lexer": "ipython3",
   "version": "3.9.7"
  }
 },
 "nbformat": 4,
 "nbformat_minor": 5
}
